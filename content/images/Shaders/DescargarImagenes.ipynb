{
  "nbformat": 4,
  "nbformat_minor": 0,
  "metadata": {
    "colab": {
      "name": "DescargarImagenes.ipynb",
      "provenance": [],
      "collapsed_sections": []
    },
    "kernelspec": {
      "name": "python3",
      "display_name": "Python 3"
    },
    "language_info": {
      "name": "python"
    }
  },
  "cells": [
    {
      "cell_type": "code",
      "execution_count": null,
      "metadata": {
        "id": "ZMUlFcHekYgk",
        "outputId": "6affcb02-28db-4035-c89a-289972390edd",
        "colab": {
          "base_uri": "https://localhost:8080/"
        }
      },
      "outputs": [
        {
          "output_type": "stream",
          "name": "stdout",
          "text": [
            "Collecting bing-image-downloader\n",
            "  Downloading bing_image_downloader-1.1.1-py3-none-any.whl (5.7 kB)\n",
            "Installing collected packages: bing-image-downloader\n",
            "Successfully installed bing-image-downloader-1.1.1\n"
          ]
        }
      ],
      "source": [
        "!pip install bing-image-downloader"
      ]
    },
    {
      "cell_type": "code",
      "source": [
        "import os\n",
        "from bing_image_downloader import downloader"
      ],
      "metadata": {
        "id": "3Ny9LjQgxrVX"
      },
      "execution_count": null,
      "outputs": []
    },
    {
      "cell_type": "markdown",
      "source": [
        "## Get images"
      ],
      "metadata": {
        "id": "FHih-ZYHv-W8"
      }
    },
    {
      "cell_type": "code",
      "source": [
        "!mkdir images"
      ],
      "metadata": {
        "id": "npL7xkS2u_Wi"
      },
      "execution_count": null,
      "outputs": []
    },
    {
      "cell_type": "code",
      "source": [
        "!rm -r 'images/cars'"
      ],
      "metadata": {
        "id": "OrgqTWggC5dH"
      },
      "execution_count": null,
      "outputs": []
    },
    {
      "cell_type": "code",
      "source": [
        "downloader.download(\"cars\", limit=30, output_dir=\"images\")"
      ],
      "metadata": {
        "colab": {
          "base_uri": "https://localhost:8080/"
        },
        "id": "CivbNEM7vN4S",
        "outputId": "8dffa8eb-ef15-45c8-963c-fc2c329372eb"
      },
      "execution_count": null,
      "outputs": [
        {
          "output_type": "stream",
          "name": "stdout",
          "text": [
            "[%] Downloading Images to /content/images/cars\n",
            "\n",
            "\n",
            "[!!]Indexing page: 1\n",
            "\n",
            "[%] Indexed 30 Images on Page 1.\n",
            "\n",
            "===============================================\n",
            "\n",
            "[%] Downloading Image #1 from https://external-preview.redd.it/pbEfLIYe90hFmJFBXWG8K0oXU4ayUl-6-USZlF7G_qk.jpg?auto=webp&amp;s=b2d9b17a5a84826506058e26ddbaeead84d0761a\n",
            "[!] Issue getting: https://external-preview.redd.it/pbEfLIYe90hFmJFBXWG8K0oXU4ayUl-6-USZlF7G_qk.jpg?auto=webp&amp;s=b2d9b17a5a84826506058e26ddbaeead84d0761a\n",
            "[!] Error:: HTTP Error 403: Forbidden\n",
            "[%] Downloading Image #1 from https://ccnwordpress.blob.core.windows.net/journal/2018/05/20180507_100831.jpg\n",
            "[%] File Downloaded !\n",
            "\n",
            "[%] Downloading Image #2 from https://i.pinimg.com/originals/4b/cc/60/4bcc60ef5497f1ac8fddb4b88dc31b5f.jpg\n",
            "[%] File Downloaded !\n",
            "\n",
            "[%] Downloading Image #3 from https://i.pinimg.com/originals/5a/5b/38/5a5b388576f4e24b4c72eb3ac95f7e87.jpg\n",
            "[%] File Downloaded !\n",
            "\n",
            "[%] Downloading Image #4 from https://media.whatcar.com/wc-image/2019-05/15-14-1-kia-picanto-review-hero-front.jpg\n",
            "[%] File Downloaded !\n",
            "\n",
            "[%] Downloading Image #5 from https://i.pinimg.com/736x/78/48/bd/7848bde96759413c7ab936584b9c5fe8.jpg\n",
            "[%] File Downloaded !\n",
            "\n",
            "[%] Downloading Image #6 from https://i.pinimg.com/originals/1a/ff/ed/1affedf582d6bbcb49068a46fd2e7140.jpg\n",
            "[%] File Downloaded !\n",
            "\n",
            "[%] Downloading Image #7 from http://dmi3w0goirzgw.cloudfront.net/gallery-images/1600/406000/600/406638.jpg\n",
            "[%] File Downloaded !\n",
            "\n",
            "[%] Downloading Image #8 from https://repairsmith-prod-wordpress.s3.amazonaws.com/2020/05/Bugatti-Chiron.jpg\n",
            "[Error]Invalid image, not saving https://repairsmith-prod-wordpress.s3.amazonaws.com/2020/05/Bugatti-Chiron.jpg\n",
            "\n",
            "[!] Issue getting: https://repairsmith-prod-wordpress.s3.amazonaws.com/2020/05/Bugatti-Chiron.jpg\n",
            "[!] Error:: Invalid image, not saving https://repairsmith-prod-wordpress.s3.amazonaws.com/2020/05/Bugatti-Chiron.jpg\n",
            "\n",
            "[%] Downloading Image #8 from https://media.whatcar.com/migration/article_inline/fa3f2b3925370291872ddcf823dd8719749dcae6.jpg\n",
            "[%] File Downloaded !\n",
            "\n",
            "[%] Downloading Image #9 from https://www.usedcars-cars.com/wp-content/uploads/2020/12/fantomworks-inventory-for-sale-lovely-bugattis-blackmail-and-burned-cars-the-improbable-true-of-fantomworks-inventory-for-sale.jpg\n",
            "[%] File Downloaded !\n",
            "\n",
            "[%] Downloading Image #10 from https://automotiveimpressions.net/wp-content/uploads/2020/11/Hellcat20-F.jpg\n",
            "[Error]Invalid image, not saving https://automotiveimpressions.net/wp-content/uploads/2020/11/Hellcat20-F.jpg\n",
            "\n",
            "[!] Issue getting: https://automotiveimpressions.net/wp-content/uploads/2020/11/Hellcat20-F.jpg\n",
            "[!] Error:: Invalid image, not saving https://automotiveimpressions.net/wp-content/uploads/2020/11/Hellcat20-F.jpg\n",
            "\n",
            "[%] Downloading Image #10 from https://media.whatcar.com/wc-image/2020-01/most_efficient_sports_cars_-_true_mpg.jpg\n",
            "[%] File Downloaded !\n",
            "\n",
            "[%] Downloading Image #11 from https://static1.thethingsimages.com/wordpress/wp-content/uploads/2020/03/14-Rare-Muscle-Cars-Only-True-Gearheads-Will-Recognize-1.jpg\n",
            "[Error]Invalid image, not saving https://static1.thethingsimages.com/wordpress/wp-content/uploads/2020/03/14-Rare-Muscle-Cars-Only-True-Gearheads-Will-Recognize-1.jpg\n",
            "\n",
            "[!] Issue getting: https://static1.thethingsimages.com/wordpress/wp-content/uploads/2020/03/14-Rare-Muscle-Cars-Only-True-Gearheads-Will-Recognize-1.jpg\n",
            "[!] Error:: Invalid image, not saving https://static1.thethingsimages.com/wordpress/wp-content/uploads/2020/03/14-Rare-Muscle-Cars-Only-True-Gearheads-Will-Recognize-1.jpg\n",
            "\n",
            "[%] Downloading Image #11 from https://static0.hotcarsimages.com/wordpress/wp-content/uploads/2020/10/Nissan-240SX-Modded-e1602628102513.jpg\n",
            "[%] File Downloaded !\n",
            "\n",
            "[%] Downloading Image #12 from https://media.whatcar.com/migration/articles/0_655_0_http---offlinehbpl.hbpl.co.uk-galleries-rcw-_dsc1924-20140603051833455.jpg\n",
            "[%] File Downloaded !\n",
            "\n",
            "[%] Downloading Image #13 from http://musclecarwarehouse.com.au/wp-content/uploads/2018/12/IMG_7243.jpg\n",
            "[%] File Downloaded !\n",
            "\n",
            "[%] Downloading Image #14 from https://www.motorbiscuit.com/wp-content/uploads/2020/12/2020-Ford-Mustang.jpg\n",
            "[%] File Downloaded !\n",
            "\n",
            "[%] Downloading Image #15 from https://i.pinimg.com/originals/8f/86/33/8f8633f408b0b968efadaab956afc0be.jpg\n",
            "[%] File Downloaded !\n",
            "\n",
            "[%] Downloading Image #16 from https://i.redd.it/5v2yxiiix6v41.jpg\n",
            "[%] File Downloaded !\n",
            "\n",
            "[%] Downloading Image #17 from https://blog.iseecars.com/wp-content/uploads/2016/10/2017-Dodge-Charger-SRT-Hellcat.jpg\n",
            "[%] File Downloaded !\n",
            "\n",
            "[%] Downloading Image #18 from https://static3.hotcarsimages.com/wordpress/wp-content/uploads/2020/04/feature-image-850csi-1.jpg\n",
            "[%] File Downloaded !\n",
            "\n",
            "[%] Downloading Image #19 from https://media.whatcar.com/migration/reviews/95bb3932f4af6d8e2009d2c4c484b9318428e0c1.jpg\n",
            "[%] File Downloaded !\n",
            "\n",
            "[%] Downloading Image #20 from http://www.carbodydesign.com/archive/2009/08/05-sv-9-competizione-images/SV-9-Competizione-4-lg.jpg\n",
            "[%] File Downloaded !\n",
            "\n",
            "[%] Downloading Image #21 from https://i.pinimg.com/originals/ff/27/dd/ff27dd511718a1c5bf1a66eee4037f0b.jpg\n",
            "[%] File Downloaded !\n",
            "\n",
            "[%] Downloading Image #22 from http://www.proctorcars.com/wp-content/uploads/2014/12/sports-cars-on-road.jpg\n",
            "[%] File Downloaded !\n",
            "\n",
            "[%] Downloading Image #23 from https://cdn.motor1.com/images/mgl/oWVql/s4/can-cadillac-become-a-true-global-luxury-car-manufacturer.jpg\n",
            "[%] File Downloaded !\n",
            "\n",
            "[%] Downloading Image #24 from https://pbs.twimg.com/media/CiwFV09WgAAARpY.jpg\n",
            "[%] File Downloaded !\n",
            "\n",
            "[%] Downloading Image #25 from https://static3.hotcarsimages.com/wordpress/wp-content/uploads/2020/06/canadian-cars.jpg\n",
            "[%] File Downloaded !\n",
            "\n",
            "[%] Downloading Image #26 from https://i.pinimg.com/originals/0d/ee/72/0dee7263c577677752d9845104abe4bb.jpg\n",
            "[%] File Downloaded !\n",
            "\n",
            "\n",
            "\n",
            "[!!]Indexing page: 2\n",
            "\n",
            "[%] Indexed 35 Images on Page 2.\n",
            "\n",
            "===============================================\n",
            "\n",
            "[%] Downloading Image #27 from https://external-preview.redd.it/pbEfLIYe90hFmJFBXWG8K0oXU4ayUl-6-USZlF7G_qk.jpg?auto=webp&amp;s=b2d9b17a5a84826506058e26ddbaeead84d0761a\n",
            "[!] Issue getting: https://external-preview.redd.it/pbEfLIYe90hFmJFBXWG8K0oXU4ayUl-6-USZlF7G_qk.jpg?auto=webp&amp;s=b2d9b17a5a84826506058e26ddbaeead84d0761a\n",
            "[!] Error:: HTTP Error 403: Forbidden\n",
            "[%] Downloading Image #27 from https://ccnwordpress.blob.core.windows.net/journal/2018/05/20180507_100831.jpg\n",
            "[%] File Downloaded !\n",
            "\n",
            "[%] Downloading Image #28 from https://i.pinimg.com/originals/4b/cc/60/4bcc60ef5497f1ac8fddb4b88dc31b5f.jpg\n",
            "[%] File Downloaded !\n",
            "\n",
            "[%] Downloading Image #29 from https://i.pinimg.com/originals/5a/5b/38/5a5b388576f4e24b4c72eb3ac95f7e87.jpg\n",
            "[%] File Downloaded !\n",
            "\n",
            "[%] Downloading Image #30 from https://media.whatcar.com/wc-image/2019-05/15-14-1-kia-picanto-review-hero-front.jpg\n",
            "[%] File Downloaded !\n",
            "\n",
            "\n",
            "\n",
            "[%] Done. Downloaded 30 images.\n",
            "===============================================\n",
            "\n",
            "Please show your support here\n",
            "https://www.buymeacoffee.com/gurugaurav\n",
            "\n",
            "===============================================\n",
            "\n"
          ]
        }
      ]
    },
    {
      "cell_type": "markdown",
      "source": [
        "### Code"
      ],
      "metadata": {
        "id": "n7tgrIu5XY7X"
      }
    },
    {
      "cell_type": "code",
      "source": [
        "path = 'images/cars/'\n",
        "\n",
        "directory_contents = os.listdir(path)\n",
        "directory_arr = [path+i for i in directory_contents] \n",
        "print(directory_arr)"
      ],
      "metadata": {
        "colab": {
          "base_uri": "https://localhost:8080/"
        },
        "id": "MwGTdaeGwTz2",
        "outputId": "f711f0da-a380-4cf9-ef51-e618b8010e3f"
      },
      "execution_count": null,
      "outputs": [
        {
          "output_type": "stream",
          "name": "stdout",
          "text": [
            "['images/cars/Image_2.jpg', 'images/cars/Image_9.jpg', 'images/cars/Image_10.jpg', 'images/cars/Image_23.jpg', 'images/cars/Image_20.jpg', 'images/cars/Image_15.jpg', 'images/cars/Image_30.jpg', 'images/cars/Image_11.jpg', 'images/cars/Image_22.jpg', 'images/cars/Image_8.jpg', 'images/cars/Image_12.jpg', 'images/cars/Image_3.jpg', 'images/cars/Image_21.jpg', 'images/cars/Image_24.jpg', 'images/cars/Image_29.jpg', 'images/cars/Image_14.jpg', 'images/cars/Image_7.jpg', 'images/cars/Image_13.jpg', 'images/cars/Image_17.jpg', 'images/cars/Image_26.jpg', 'images/cars/Image_16.jpg', 'images/cars/Image_19.jpg', 'images/cars/Image_4.jpg', 'images/cars/Image_28.jpg', 'images/cars/Image_5.jpg', 'images/cars/Image_27.jpg', 'images/cars/Image_18.jpg', 'images/cars/Image_25.jpg', 'images/cars/Image_6.jpg', 'images/cars/Image_1.jpg']\n"
          ]
        }
      ]
    }
  ]
}